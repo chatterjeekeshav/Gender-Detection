{
  "nbformat": 4,
  "nbformat_minor": 0,
  "metadata": {
    "colab": {
      "name": "Gender Classficcation.ipynb",
      "provenance": [],
      "collapsed_sections": []
    },
    "kernelspec": {
      "name": "python3",
      "display_name": "Python 3"
    },
    "language_info": {
      "name": "python"
    },
    "accelerator": "GPU"
  },
  "cells": [
    {
      "cell_type": "code",
      "execution_count": null,
      "metadata": {
        "id": "xthg10KzoqlW"
      },
      "outputs": [],
      "source": [
        "import plotly.express as px\n",
        "import pandas as pd\n",
        "import numpy as np\n",
        "import os\n",
        "import random\n",
        "\n"
      ]
    },
    {
      "cell_type": "code",
      "source": [
        "import tensorflow as tf\n",
        "from tensorflow.keras.applications import InceptionV3\n",
        "from tensorflow.keras.models import Sequential\n",
        "from tensorflow.keras.layers import Dense,Flatten,BatchNormalization,Dropout\n",
        "from tensorflow.keras.preprocessing.image import ImageDataGenerator\n",
        "from tensorflow.keras.preprocessing.image import load_img,img_to_array\n",
        "# inception_weights_path = 'https://github.com/fchollet/deep-learning-models/releases/download/v0.2/inception_v3_weights_tf_dim_ordering_tf_kernels.h5'\n"
      ],
      "metadata": {
        "id": "5HwdiU1ypM9N"
      },
      "execution_count": null,
      "outputs": []
    },
    {
      "cell_type": "markdown",
      "source": [
        "### Inceptionv3 is cnn is advanced version of resnet50 and Inceptionv2 it has 7x7 convulational layers .\n"
      ],
      "metadata": {
        "id": "Azw0TvtLwBhh"
      }
    },
    {
      "cell_type": "markdown",
      "source": [
        "Data Preparation\n"
      ],
      "metadata": {
        "id": "YaPz1dUswp40"
      }
    },
    {
      "cell_type": "code",
      "source": [
        "!git clone https://github.com/laxmimerit/male-female-face-dataset.git"
      ],
      "metadata": {
        "colab": {
          "base_uri": "https://localhost:8080/"
        },
        "id": "bfJkj4S3vvYu",
        "outputId": "23b305e6-1b57-4e22-a29a-e71d11d25374"
      },
      "execution_count": null,
      "outputs": [
        {
          "output_type": "stream",
          "name": "stdout",
          "text": [
            "Cloning into 'male-female-face-dataset'...\n",
            "remote: Enumerating objects: 58657, done.\u001b[K\n",
            "remote: Counting objects: 100% (1/1), done.\u001b[K\n",
            "remote: Total 58657 (delta 0), reused 0 (delta 0), pack-reused 58656\u001b[K\n",
            "Receiving objects: 100% (58657/58657), 261.44 MiB | 11.54 MiB/s, done.\n",
            "Resolving deltas: 100% (1/1), done.\n",
            "Checking out files: 100% (58659/58659), done.\n"
          ]
        }
      ]
    },
    {
      "cell_type": "markdown",
      "source": [
        "Putting some hyperparameters\n"
      ],
      "metadata": {
        "id": "J17lWKpm_Enx"
      }
    },
    {
      "cell_type": "code",
      "source": [],
      "metadata": {
        "id": "vqJHPN1HAUy_"
      },
      "execution_count": null,
      "outputs": []
    },
    {
      "cell_type": "code",
      "source": [
        "epochs = 50\n",
        "lr= 1e-3 #learning rate\n",
        "batch_size = 128\n",
        "data = []\n",
        "labels = []"
      ],
      "metadata": {
        "id": "lCseKrNS-7VY"
      },
      "execution_count": null,
      "outputs": []
    },
    {
      "cell_type": "markdown",
      "source": [
        "image widht and height taking\n"
      ],
      "metadata": {
        "id": "v4hZS44j_VUu"
      }
    },
    {
      "cell_type": "code",
      "source": [
        "size = 224"
      ],
      "metadata": {
        "id": "UE1-anEU_Ub-"
      },
      "execution_count": null,
      "outputs": []
    },
    {
      "cell_type": "code",
      "source": [
        "## Image Data Generator\n",
        "# image need to be converted in numerical daTA"
      ],
      "metadata": {
        "id": "5PF0KGmx_hrb"
      },
      "execution_count": null,
      "outputs": []
    },
    {
      "cell_type": "code",
      "source": [
        "train_datagen = ImageDataGenerator(horizontal_flip=True, width_shift_range=0.4,\n",
        "                                   height_shift_range=0.4,zoom_range=0.3,\n",
        "                                   rotation_range=20,rescale = 1/255)"
      ],
      "metadata": {
        "id": "alPlqWVW_qQR"
      },
      "execution_count": null,
      "outputs": []
    },
    {
      "cell_type": "code",
      "source": [
        "test_datagen = ImageDataGenerator(rescale=1/255)"
      ],
      "metadata": {
        "id": "FfTZbQCEAID0"
      },
      "execution_count": null,
      "outputs": []
    },
    {
      "cell_type": "code",
      "source": [
        "target_size = (size,size)\n",
        "#(224,224)\n",
        "target_size"
      ],
      "metadata": {
        "colab": {
          "base_uri": "https://localhost:8080/"
        },
        "id": "YxiSfJ-hAdtt",
        "outputId": "ed0c30b8-d00c-4db0-e8a9-007b14d2b5fd"
      },
      "execution_count": null,
      "outputs": [
        {
          "output_type": "execute_result",
          "data": {
            "text/plain": [
              "(224, 224)"
            ]
          },
          "metadata": {},
          "execution_count": 23
        }
      ]
    },
    {
      "cell_type": "code",
      "source": [
        "train_generator = train_datagen.flow_from_directory(\n",
        "    directory = '/content/male-female-face-dataset/Training',\n",
        "    target_size = target_size,\n",
        "    batch_size=batch_size,\n",
        "    class_mode='binary'  #two classes are there male and female\n",
        "\n",
        ")"
      ],
      "metadata": {
        "colab": {
          "base_uri": "https://localhost:8080/"
        },
        "id": "5VK1mZKVAmPY",
        "outputId": "3375b36d-4021-4cb8-a1f9-58043d0a1498"
      },
      "execution_count": null,
      "outputs": [
        {
          "output_type": "stream",
          "name": "stdout",
          "text": [
            "Found 47009 images belonging to 2 classes.\n"
          ]
        }
      ]
    },
    {
      "cell_type": "code",
      "source": [
        "validation_generator = test_datagen.flow_from_directory(\n",
        "    directory = '/content/male-female-face-dataset/Validation',\n",
        "     target_size = target_size,\n",
        "     batch_size=batch_size,\n",
        "     class_mode='binary' \n",
        "\n",
        ")"
      ],
      "metadata": {
        "colab": {
          "base_uri": "https://localhost:8080/"
        },
        "id": "RoKTo6n1A3NG",
        "outputId": "6d9e2011-aeac-4725-bc3d-e9aed42300b4"
      },
      "execution_count": null,
      "outputs": [
        {
          "output_type": "stream",
          "name": "stdout",
          "text": [
            "Found 11649 images belonging to 2 classes.\n"
          ]
        }
      ]
    },
    {
      "cell_type": "code",
      "source": [
        "train_generator.class_indices"
      ],
      "metadata": {
        "colab": {
          "base_uri": "https://localhost:8080/"
        },
        "id": "ajk2LyXHBpBm",
        "outputId": "0624c319-7cf2-494b-d0c6-0b664573554a"
      },
      "execution_count": null,
      "outputs": [
        {
          "output_type": "execute_result",
          "data": {
            "text/plain": [
              "{'female': 0, 'male': 1}"
            ]
          },
          "metadata": {},
          "execution_count": 26
        }
      ]
    },
    {
      "cell_type": "code",
      "source": [
        "len(train_generator.classes)"
      ],
      "metadata": {
        "colab": {
          "base_uri": "https://localhost:8080/"
        },
        "id": "LfhITNAwB1w2",
        "outputId": "f8a5d8ad-5114-43f3-942e-9c2ce905139f"
      },
      "execution_count": null,
      "outputs": [
        {
          "output_type": "execute_result",
          "data": {
            "text/plain": [
              "47009"
            ]
          },
          "metadata": {},
          "execution_count": 27
        }
      ]
    },
    {
      "cell_type": "code",
      "source": [
        "train_generator.class_mode"
      ],
      "metadata": {
        "colab": {
          "base_uri": "https://localhost:8080/",
          "height": 36
        },
        "id": "ejbecOaOB52D",
        "outputId": "240f2946-d032-48bb-d13b-7720999b4d69"
      },
      "execution_count": null,
      "outputs": [
        {
          "output_type": "execute_result",
          "data": {
            "text/plain": [
              "'binary'"
            ],
            "application/vnd.google.colaboratory.intrinsic+json": {
              "type": "string"
            }
          },
          "metadata": {},
          "execution_count": 28
        }
      ]
    },
    {
      "cell_type": "code",
      "source": [
        "X,y = train_generator.next()"
      ],
      "metadata": {
        "id": "__eIbXkACG_O"
      },
      "execution_count": null,
      "outputs": []
    },
    {
      "cell_type": "code",
      "source": [
        "X"
      ],
      "metadata": {
        "colab": {
          "base_uri": "https://localhost:8080/"
        },
        "id": "vn_IX8EiCRk3",
        "outputId": "f0d262ac-4e85-45d1-c4f1-f6f8c8b63dc9"
      },
      "execution_count": null,
      "outputs": [
        {
          "output_type": "execute_result",
          "data": {
            "text/plain": [
              "array([[[[0.47058827, 0.32941177, 0.26666668],\n",
              "         [0.4686563 , 0.3274798 , 0.26473472],\n",
              "         [0.46274513, 0.32156864, 0.25882354],\n",
              "         ...,\n",
              "         [0.56078434, 0.4901961 , 0.43529415],\n",
              "         [0.56078434, 0.4901961 , 0.43529415],\n",
              "         [0.56078434, 0.4901961 , 0.43529415]],\n",
              "\n",
              "        [[0.47058827, 0.32941177, 0.26666668],\n",
              "         [0.46838066, 0.32720417, 0.26445907],\n",
              "         [0.46274513, 0.32156864, 0.25882354],\n",
              "         ...,\n",
              "         [0.56078434, 0.4901961 , 0.43529415],\n",
              "         [0.56078434, 0.4901961 , 0.43529415],\n",
              "         [0.56078434, 0.4901961 , 0.43529415]],\n",
              "\n",
              "        [[0.44845352, 0.30506355, 0.24231844],\n",
              "         [0.44557178, 0.30239525, 0.23965016],\n",
              "         [0.43773317, 0.29477012, 0.23202503],\n",
              "         ...,\n",
              "         [0.56078434, 0.4901961 , 0.43529415],\n",
              "         [0.56078434, 0.4901961 , 0.43529415],\n",
              "         [0.56078434, 0.4901961 , 0.43529415]],\n",
              "\n",
              "        ...,\n",
              "\n",
              "        [[0.59607846, 0.3647059 , 0.30980393],\n",
              "         [0.59564114, 0.36410454, 0.3091479 ],\n",
              "         [0.5647059 , 0.32156864, 0.2627451 ],\n",
              "         ...,\n",
              "         [0.41176474, 0.27058825, 0.20784315],\n",
              "         [0.41176474, 0.27058825, 0.20784315],\n",
              "         [0.41176474, 0.27058825, 0.20784315]],\n",
              "\n",
              "        [[0.59607846, 0.3647059 , 0.30980393],\n",
              "         [0.59453845, 0.36258838, 0.3074939 ],\n",
              "         [0.5647059 , 0.32156864, 0.2627451 ],\n",
              "         ...,\n",
              "         [0.41176474, 0.27058825, 0.20784315],\n",
              "         [0.41176474, 0.27058825, 0.20784315],\n",
              "         [0.41176474, 0.27058825, 0.20784315]],\n",
              "\n",
              "        [[0.5768531 , 0.35371998, 0.29607156],\n",
              "         [0.575918  , 0.35158023, 0.29360154],\n",
              "         [0.5507885 , 0.31924906, 0.25578642],\n",
              "         ...,\n",
              "         [0.41966045, 0.28637967, 0.22626647],\n",
              "         [0.4190201 , 0.28509894, 0.2247723 ],\n",
              "         [0.41837972, 0.28381822, 0.22327812]]],\n",
              "\n",
              "\n",
              "       [[[0.87843144, 0.7725491 , 0.7058824 ],\n",
              "         [0.8711858 , 0.76530343, 0.6986368 ],\n",
              "         [0.8352942 , 0.7294118 , 0.6627451 ],\n",
              "         ...,\n",
              "         [0.44705886, 0.3647059 , 0.2901961 ],\n",
              "         [0.44705886, 0.3647059 , 0.2901961 ],\n",
              "         [0.44705886, 0.3647059 , 0.2901961 ]],\n",
              "\n",
              "        [[0.87843144, 0.7725491 , 0.7058824 ],\n",
              "         [0.8608932 , 0.75501084, 0.6883442 ],\n",
              "         [0.8352942 , 0.7294118 , 0.6627451 ],\n",
              "         ...,\n",
              "         [0.44705886, 0.3647059 , 0.2901961 ],\n",
              "         [0.44705886, 0.3647059 , 0.2901961 ],\n",
              "         [0.44705886, 0.3647059 , 0.2901961 ]],\n",
              "\n",
              "        [[0.87843144, 0.7725491 , 0.7058824 ],\n",
              "         [0.85060066, 0.7447183 , 0.6780516 ],\n",
              "         [0.8352942 , 0.7294118 , 0.6627451 ],\n",
              "         ...,\n",
              "         [0.44705886, 0.3647059 , 0.2901961 ],\n",
              "         [0.44705886, 0.3647059 , 0.2901961 ],\n",
              "         [0.44705886, 0.3647059 , 0.2901961 ]],\n",
              "\n",
              "        ...,\n",
              "\n",
              "        [[0.81039464, 0.5986299 , 0.50451225],\n",
              "         [0.7870954 , 0.58237904, 0.4953098 ],\n",
              "         [0.7843138 , 0.5803922 , 0.49411768],\n",
              "         ...,\n",
              "         [0.71383667, 0.45501313, 0.39226803],\n",
              "         [0.7176471 , 0.45882356, 0.39607847],\n",
              "         [0.7176471 , 0.45882356, 0.39607847]],\n",
              "\n",
              "        [[0.7900023 , 0.57979405, 0.48723286],\n",
              "         [0.78972274, 0.5858012 , 0.49952662],\n",
              "         [0.7877367 , 0.5838151 , 0.49754062],\n",
              "         ...,\n",
              "         [0.67914534, 0.42032182, 0.35757673],\n",
              "         [0.68907547, 0.43025193, 0.36750683],\n",
              "         [0.69900554, 0.440182  , 0.3774369 ]],\n",
              "\n",
              "        [[0.78994924, 0.58161235, 0.4909225 ],\n",
              "         [0.79215693, 0.5882353 , 0.5019608 ],\n",
              "         [0.79215693, 0.5882353 , 0.5019608 ],\n",
              "         ...,\n",
              "         [0.6784314 , 0.41960788, 0.35686275],\n",
              "         [0.6784314 , 0.41960788, 0.35686275],\n",
              "         [0.6784314 , 0.41960788, 0.35686275]]],\n",
              "\n",
              "\n",
              "       [[[0.6808253 , 0.5670998 , 0.5043547 ],\n",
              "         [0.7048526 , 0.60018194, 0.54045516],\n",
              "         [0.71305877, 0.611098  , 0.5522744 ],\n",
              "         ...,\n",
              "         [0.20784315, 0.15686275, 0.13333334],\n",
              "         [0.20784315, 0.15686275, 0.13333334],\n",
              "         [0.20784315, 0.15686275, 0.13333334]],\n",
              "\n",
              "        [[0.68235296, 0.5686275 , 0.5058824 ],\n",
              "         [0.70359385, 0.5978337 , 0.53774375],\n",
              "         [0.7137255 , 0.6117647 , 0.5529412 ],\n",
              "         ...,\n",
              "         [0.20779185, 0.15681146, 0.13323075],\n",
              "         [0.20659758, 0.15561719, 0.13084221],\n",
              "         [0.20540331, 0.15442292, 0.12845367]],\n",
              "\n",
              "        [[0.68235296, 0.5694088 , 0.50627303],\n",
              "         [0.70011115, 0.59581435, 0.53437334],\n",
              "         [0.7121406 , 0.61493456, 0.55452615],\n",
              "         ...,\n",
              "         [0.20195197, 0.15097158, 0.12155098],\n",
              "         [0.2007577 , 0.14977731, 0.11916244],\n",
              "         [0.20000002, 0.14901961, 0.11764707]],\n",
              "\n",
              "        ...,\n",
              "\n",
              "        [[0.16078432, 0.13333334, 0.10980393],\n",
              "         [0.16434611, 0.13570789, 0.11574025],\n",
              "         [0.17254902, 0.14117648, 0.12941177],\n",
              "         ...,\n",
              "         [0.07843138, 0.07450981, 0.06666667],\n",
              "         [0.07843138, 0.07450981, 0.06666667],\n",
              "         [0.07843138, 0.07450981, 0.06666667]],\n",
              "\n",
              "        [[0.16078432, 0.13333334, 0.10980393],\n",
              "         [0.16268177, 0.1344067 , 0.11334955],\n",
              "         [0.1692105 , 0.13783795, 0.12607324],\n",
              "         ...,\n",
              "         [0.07843138, 0.07450981, 0.06666667],\n",
              "         [0.07843138, 0.07450981, 0.06666667],\n",
              "         [0.07843138, 0.07450981, 0.06666667]],\n",
              "\n",
              "        [[0.15566371, 0.12821274, 0.10468332],\n",
              "         [0.15510997, 0.12719809, 0.10505139],\n",
              "         [0.15753073, 0.12615818, 0.11439347],\n",
              "         ...,\n",
              "         [0.07843138, 0.07450981, 0.06666667],\n",
              "         [0.07843138, 0.07450981, 0.06666667],\n",
              "         [0.07843138, 0.07450981, 0.06666667]]],\n",
              "\n",
              "\n",
              "       ...,\n",
              "\n",
              "\n",
              "       [[[0.7692658 , 0.54965794, 0.49083441],\n",
              "         [0.77228993, 0.55268204, 0.4938585 ],\n",
              "         [0.7725491 , 0.5529412 , 0.49411768],\n",
              "         ...,\n",
              "         [0.43137258, 0.29411766, 0.21568629],\n",
              "         [0.43137258, 0.29411766, 0.21568629],\n",
              "         [0.43137258, 0.29411766, 0.21568629]],\n",
              "\n",
              "        [[0.7691534 , 0.5495456 , 0.49072203],\n",
              "         [0.7721775 , 0.5525697 , 0.49374613],\n",
              "         [0.7725491 , 0.5529412 , 0.49411768],\n",
              "         ...,\n",
              "         [0.43155107, 0.29429618, 0.21586478],\n",
              "         [0.43172225, 0.29446733, 0.21603593],\n",
              "         [0.4318934 , 0.29463848, 0.21620712]],\n",
              "\n",
              "        [[0.7664596 , 0.5493455 , 0.49117795],\n",
              "         [0.7685109 , 0.5516536 , 0.4921395 ],\n",
              "         [0.7685393 , 0.5519388 , 0.4921128 ],\n",
              "         ...,\n",
              "         [0.43921572, 0.3019608 , 0.22352943],\n",
              "         [0.43921572, 0.3019608 , 0.22352943],\n",
              "         [0.43921572, 0.3019608 , 0.22352943]],\n",
              "\n",
              "        ...,\n",
              "\n",
              "        [[0.6392157 , 0.47058827, 0.4431373 ],\n",
              "         [0.63685644, 0.46822897, 0.43605936],\n",
              "         [0.63529414, 0.4666667 , 0.43137258],\n",
              "         ...,\n",
              "         [0.10588236, 0.07843138, 0.10980393],\n",
              "         [0.10588236, 0.07843138, 0.10980393],\n",
              "         [0.10588236, 0.07843138, 0.10980393]],\n",
              "\n",
              "        [[0.6392157 , 0.47058827, 0.4431373 ],\n",
              "         [0.6369688 , 0.46834132, 0.43639645],\n",
              "         [0.63529414, 0.4666667 , 0.43137258],\n",
              "         ...,\n",
              "         [0.10588236, 0.07843138, 0.10980393],\n",
              "         [0.10588236, 0.07843138, 0.10980393],\n",
              "         [0.10588236, 0.07843138, 0.10980393]],\n",
              "\n",
              "        [[0.6392157 , 0.47058827, 0.4431373 ],\n",
              "         [0.63708115, 0.46845368, 0.43673354],\n",
              "         [0.63529414, 0.4666667 , 0.43137258],\n",
              "         ...,\n",
              "         [0.10588236, 0.07843138, 0.10980393],\n",
              "         [0.10588236, 0.07843138, 0.10980393],\n",
              "         [0.10588236, 0.07843138, 0.10980393]]],\n",
              "\n",
              "\n",
              "       [[[0.41176474, 0.26666668, 0.20392159],\n",
              "         [0.41176474, 0.26666668, 0.20392159],\n",
              "         [0.41176474, 0.26666668, 0.20392159],\n",
              "         ...,\n",
              "         [0.310221  , 0.1651825 , 0.09435596],\n",
              "         [0.3344124 , 0.19282982, 0.10817961],\n",
              "         [0.3372549 , 0.19607845, 0.10980393]],\n",
              "\n",
              "        [[0.41176474, 0.26666668, 0.20392159],\n",
              "         [0.41176474, 0.26666668, 0.20392159],\n",
              "         [0.41176474, 0.26666668, 0.20392159],\n",
              "         ...,\n",
              "         [0.30988958, 0.16474873, 0.09416049],\n",
              "         [0.33758914, 0.1945557 , 0.11069436],\n",
              "         [0.34713954, 0.20338446, 0.11710995]],\n",
              "\n",
              "        [[0.41299948, 0.26780644, 0.2047764 ],\n",
              "         [0.41572335, 0.2703208 , 0.20666216],\n",
              "         [0.41844723, 0.27283514, 0.2085479 ],\n",
              "         ...,\n",
              "         [0.3359118 , 0.17775983, 0.1071716 ],\n",
              "         [0.4008966 , 0.23949943, 0.15642694],\n",
              "         [0.42195338, 0.25868163, 0.17240714]],\n",
              "\n",
              "        ...,\n",
              "\n",
              "        [[0.8196079 , 0.25882354, 0.20392159],\n",
              "         [0.8196079 , 0.25882354, 0.20392159],\n",
              "         [0.8196079 , 0.25882354, 0.20392159],\n",
              "         ...,\n",
              "         [0.32156864, 0.20000002, 0.12156864],\n",
              "         [0.3246375 , 0.19693117, 0.12770632],\n",
              "         [0.3254902 , 0.19607845, 0.12941177]],\n",
              "\n",
              "        [[0.8196079 , 0.25882354, 0.20392159],\n",
              "         [0.8196079 , 0.25882354, 0.20392159],\n",
              "         [0.8196079 , 0.25882354, 0.20392159],\n",
              "         ...,\n",
              "         [0.32156864, 0.20000002, 0.12156864],\n",
              "         [0.3244403 , 0.19712839, 0.1273119 ],\n",
              "         [0.3254902 , 0.19607845, 0.12941177]],\n",
              "\n",
              "        [[0.8196079 , 0.25882354, 0.20392159],\n",
              "         [0.8196079 , 0.25882354, 0.20392159],\n",
              "         [0.8196079 , 0.25882354, 0.20392159],\n",
              "         ...,\n",
              "         [0.32156864, 0.20000002, 0.12156864],\n",
              "         [0.32424307, 0.1973256 , 0.12691747],\n",
              "         [0.3254902 , 0.19607845, 0.12941177]]],\n",
              "\n",
              "\n",
              "       [[[0.68162084, 0.59142476, 0.52246374],\n",
              "         [0.6539646 , 0.5637685 , 0.49701995],\n",
              "         [0.62630826, 0.5361122 , 0.47157618],\n",
              "         ...,\n",
              "         [0.9586267 , 0.79529077, 0.66019356],\n",
              "         [0.9575204 , 0.7908658 , 0.65687484],\n",
              "         [0.9688868 , 0.80025935, 0.66692597]],\n",
              "\n",
              "        [[0.6059181 , 0.51572204, 0.4528172 ],\n",
              "         [0.6039216 , 0.5137255 , 0.45098042],\n",
              "         [0.6039216 , 0.5137255 , 0.45098042],\n",
              "         ...,\n",
              "         [0.9568628 , 0.78823537, 0.654902  ],\n",
              "         [0.9568628 , 0.78823537, 0.654902  ],\n",
              "         [0.96490663, 0.7962792 , 0.6629458 ]],\n",
              "\n",
              "        [[0.6039216 , 0.5137255 , 0.45098042],\n",
              "         [0.6039216 , 0.5137255 , 0.45098042],\n",
              "         [0.6039216 , 0.5137255 , 0.45098042],\n",
              "         ...,\n",
              "         [0.95908755, 0.7893477 , 0.6563852 ],\n",
              "         [0.96572506, 0.7926665 , 0.6608102 ],\n",
              "         [0.97428477, 0.79790735, 0.6671573 ]],\n",
              "\n",
              "        ...,\n",
              "\n",
              "        [[0.9450981 , 0.94117653, 0.9215687 ],\n",
              "         [0.9450981 , 0.94117653, 0.9215687 ],\n",
              "         [0.9450981 , 0.94117653, 0.9215687 ],\n",
              "         ...,\n",
              "         [0.8193386 , 0.66639745, 0.5086965 ],\n",
              "         [0.80392164, 0.6509804 , 0.4901961 ],\n",
              "         [0.81573415, 0.6627929 , 0.49610236]],\n",
              "\n",
              "        [[0.9450981 , 0.94117653, 0.9215687 ],\n",
              "         [0.9450981 , 0.94117653, 0.9215687 ],\n",
              "         [0.9450981 , 0.94117653, 0.9215687 ],\n",
              "         ...,\n",
              "         [0.82729894, 0.6743577 , 0.5182488 ],\n",
              "         [0.80392164, 0.6509804 , 0.4901961 ],\n",
              "         [0.81255007, 0.6596089 , 0.49451032]],\n",
              "\n",
              "        [[0.9450981 , 0.94117653, 0.9215687 ],\n",
              "         [0.9450981 , 0.94117653, 0.9215687 ],\n",
              "         [0.9450981 , 0.94117653, 0.9215687 ],\n",
              "         ...,\n",
              "         [0.83525914, 0.682318  , 0.5278012 ],\n",
              "         [0.80392164, 0.6509804 , 0.4901961 ],\n",
              "         [0.8093659 , 0.65642476, 0.49291828]]]], dtype=float32)"
            ]
          },
          "metadata": {},
          "execution_count": 30
        }
      ]
    },
    {
      "cell_type": "code",
      "source": [
        "X.shape\n",
        "#batch_size img_size 3dimensional"
      ],
      "metadata": {
        "colab": {
          "base_uri": "https://localhost:8080/"
        },
        "id": "J-RKOz3qCWAo",
        "outputId": "0b16a9c7-5900-4ec8-a02e-bb3d4bbb22fb"
      },
      "execution_count": null,
      "outputs": [
        {
          "output_type": "execute_result",
          "data": {
            "text/plain": [
              "(128, 224, 224, 3)"
            ]
          },
          "metadata": {},
          "execution_count": 31
        }
      ]
    },
    {
      "cell_type": "code",
      "source": [
        "X[0]\n",
        "#rgb"
      ],
      "metadata": {
        "colab": {
          "base_uri": "https://localhost:8080/"
        },
        "id": "aOh7YpZpCX2C",
        "outputId": "a4974b2c-331b-4b84-df54-63474940921c"
      },
      "execution_count": null,
      "outputs": [
        {
          "output_type": "execute_result",
          "data": {
            "text/plain": [
              "array([[[0.47058827, 0.32941177, 0.26666668],\n",
              "        [0.4686563 , 0.3274798 , 0.26473472],\n",
              "        [0.46274513, 0.32156864, 0.25882354],\n",
              "        ...,\n",
              "        [0.56078434, 0.4901961 , 0.43529415],\n",
              "        [0.56078434, 0.4901961 , 0.43529415],\n",
              "        [0.56078434, 0.4901961 , 0.43529415]],\n",
              "\n",
              "       [[0.47058827, 0.32941177, 0.26666668],\n",
              "        [0.46838066, 0.32720417, 0.26445907],\n",
              "        [0.46274513, 0.32156864, 0.25882354],\n",
              "        ...,\n",
              "        [0.56078434, 0.4901961 , 0.43529415],\n",
              "        [0.56078434, 0.4901961 , 0.43529415],\n",
              "        [0.56078434, 0.4901961 , 0.43529415]],\n",
              "\n",
              "       [[0.44845352, 0.30506355, 0.24231844],\n",
              "        [0.44557178, 0.30239525, 0.23965016],\n",
              "        [0.43773317, 0.29477012, 0.23202503],\n",
              "        ...,\n",
              "        [0.56078434, 0.4901961 , 0.43529415],\n",
              "        [0.56078434, 0.4901961 , 0.43529415],\n",
              "        [0.56078434, 0.4901961 , 0.43529415]],\n",
              "\n",
              "       ...,\n",
              "\n",
              "       [[0.59607846, 0.3647059 , 0.30980393],\n",
              "        [0.59564114, 0.36410454, 0.3091479 ],\n",
              "        [0.5647059 , 0.32156864, 0.2627451 ],\n",
              "        ...,\n",
              "        [0.41176474, 0.27058825, 0.20784315],\n",
              "        [0.41176474, 0.27058825, 0.20784315],\n",
              "        [0.41176474, 0.27058825, 0.20784315]],\n",
              "\n",
              "       [[0.59607846, 0.3647059 , 0.30980393],\n",
              "        [0.59453845, 0.36258838, 0.3074939 ],\n",
              "        [0.5647059 , 0.32156864, 0.2627451 ],\n",
              "        ...,\n",
              "        [0.41176474, 0.27058825, 0.20784315],\n",
              "        [0.41176474, 0.27058825, 0.20784315],\n",
              "        [0.41176474, 0.27058825, 0.20784315]],\n",
              "\n",
              "       [[0.5768531 , 0.35371998, 0.29607156],\n",
              "        [0.575918  , 0.35158023, 0.29360154],\n",
              "        [0.5507885 , 0.31924906, 0.25578642],\n",
              "        ...,\n",
              "        [0.41966045, 0.28637967, 0.22626647],\n",
              "        [0.4190201 , 0.28509894, 0.2247723 ],\n",
              "        [0.41837972, 0.28381822, 0.22327812]]], dtype=float32)"
            ]
          },
          "metadata": {},
          "execution_count": 32
        }
      ]
    },
    {
      "cell_type": "markdown",
      "source": [
        "Building ML model\n"
      ],
      "metadata": {
        "id": "KKv0di8XCrjz"
      }
    },
    {
      "cell_type": "code",
      "source": [
        "model = Sequential()\n",
        "model.add(InceptionV3(include_top=False,pooling='avg',weights = 'imagenet'))\n",
        "model.add(Flatten())\n",
        "\n",
        "model.add(BatchNormalization())\n",
        "model.add(Dense(2048, activation='relu'))  #2048 dense layers\n",
        "model.add(BatchNormalization())\n",
        "\n",
        "\n",
        "model.add(Dense(1024, activation='relu'))  #1024 dense layers\n",
        "model.add(BatchNormalization())\n",
        "\n",
        "model.add(Dense(1, activation='sigmoid'))  #final layer sigmoid gives the probability of the female and male\n",
        "model.add(BatchNormalization())\n",
        "\n",
        "model.layers[0].trainable=False #because we don't want to train top layers as it is already trained on imagenet dataset so train only last layers for better accuracy\n"
      ],
      "metadata": {
        "colab": {
          "base_uri": "https://localhost:8080/"
        },
        "id": "AsU8MwEYCkT4",
        "outputId": "28aafd6a-327a-444f-df78-36dfd231a392"
      },
      "execution_count": null,
      "outputs": [
        {
          "output_type": "stream",
          "name": "stdout",
          "text": [
            "Downloading data from https://storage.googleapis.com/tensorflow/keras-applications/inception_v3/inception_v3_weights_tf_dim_ordering_tf_kernels_notop.h5\n",
            "87916544/87910968 [==============================] - 1s 0us/step\n",
            "87924736/87910968 [==============================] - 1s 0us/step\n"
          ]
        }
      ]
    },
    {
      "cell_type": "markdown",
      "source": [
        "we want to train only few layers of inceptionv3 as it is pre trained model"
      ],
      "metadata": {
        "id": "vMSMsi5iFPZl"
      }
    },
    {
      "cell_type": "code",
      "source": [
        "model.summary()"
      ],
      "metadata": {
        "colab": {
          "base_uri": "https://localhost:8080/"
        },
        "id": "A4KEZ9P0ERC4",
        "outputId": "aee32525-bb5e-454f-ee1c-08fec763c863"
      },
      "execution_count": null,
      "outputs": [
        {
          "output_type": "stream",
          "name": "stdout",
          "text": [
            "Model: \"sequential\"\n",
            "_________________________________________________________________\n",
            " Layer (type)                Output Shape              Param #   \n",
            "=================================================================\n",
            " inception_v3 (Functional)   (None, 2048)              21802784  \n",
            "                                                                 \n",
            " flatten (Flatten)           (None, 2048)              0         \n",
            "                                                                 \n",
            " batch_normalization_94 (Bat  (None, 2048)             8192      \n",
            " chNormalization)                                                \n",
            "                                                                 \n",
            " dense (Dense)               (None, 2048)              4196352   \n",
            "                                                                 \n",
            " batch_normalization_95 (Bat  (None, 2048)             8192      \n",
            " chNormalization)                                                \n",
            "                                                                 \n",
            " dense_1 (Dense)             (None, 1024)              2098176   \n",
            "                                                                 \n",
            " batch_normalization_96 (Bat  (None, 1024)             4096      \n",
            " chNormalization)                                                \n",
            "                                                                 \n",
            " dense_2 (Dense)             (None, 1)                 1025      \n",
            "                                                                 \n",
            " batch_normalization_97 (Bat  (None, 1)                4         \n",
            " chNormalization)                                                \n",
            "                                                                 \n",
            "=================================================================\n",
            "Total params: 28,118,821\n",
            "Trainable params: 6,305,795\n",
            "Non-trainable params: 21,813,026\n",
            "_________________________________________________________________\n"
          ]
        }
      ]
    },
    {
      "cell_type": "code",
      "source": [
        "model.compile(optimizer='adam',\n",
        "              loss = 'binary_crossentropy',\n",
        "              metrics = ['accuracy'])"
      ],
      "metadata": {
        "id": "E14Ovs8QFaYi"
      },
      "execution_count": null,
      "outputs": []
    },
    {
      "cell_type": "code",
      "source": [
        "len((train_generator.filenames)) , batch_size , len((train_generator)), batch_size"
      ],
      "metadata": {
        "colab": {
          "base_uri": "https://localhost:8080/"
        },
        "id": "d0-7q7-TGIab",
        "outputId": "3bd717f3-af47-4439-e353-6b904746a159"
      },
      "execution_count": null,
      "outputs": [
        {
          "output_type": "execute_result",
          "data": {
            "text/plain": [
              "(47009, 128, 368, 128)"
            ]
          },
          "metadata": {},
          "execution_count": 36
        }
      ]
    },
    {
      "cell_type": "code",
      "source": [
        "model.fit(train_generator, steps_per_epoch=len(train_generator.filenames)//batch_size,\n",
        "          epochs=50,validation_data = validation_generator, validation_steps=len(validation_generator.filenames)//batch_size)"
      ],
      "metadata": {
        "colab": {
          "base_uri": "https://localhost:8080/"
        },
        "id": "YxrBGCHjFuFJ",
        "outputId": "56f1956c-9858-47e1-a70d-6e5380eb2c26"
      },
      "execution_count": null,
      "outputs": [
        {
          "output_type": "stream",
          "name": "stdout",
          "text": [
            "Epoch 1/50\n",
            "367/367 [==============================] - 539s 1s/step - loss: 0.8852 - accuracy: 0.7073 - val_loss: 1.2022 - val_accuracy: 0.8662\n",
            "Epoch 2/50\n",
            "367/367 [==============================] - 535s 1s/step - loss: 0.7615 - accuracy: 0.7043 - val_loss: 0.7726 - val_accuracy: 0.8818\n",
            "Epoch 3/50\n",
            "367/367 [==============================] - 539s 1s/step - loss: 0.7715 - accuracy: 0.6947 - val_loss: 0.7089 - val_accuracy: 0.8705\n",
            "Epoch 4/50\n",
            "367/367 [==============================] - 541s 1s/step - loss: 0.6763 - accuracy: 0.6915 - val_loss: 0.5855 - val_accuracy: 0.7326\n",
            "Epoch 5/50\n",
            "367/367 [==============================] - 534s 1s/step - loss: 1.0891 - accuracy: 0.6424 - val_loss: 0.7372 - val_accuracy: 0.5005\n",
            "Epoch 6/50\n",
            "367/367 [==============================] - 533s 1s/step - loss: 1.4353 - accuracy: 0.5876 - val_loss: 0.6964 - val_accuracy: 0.5110\n",
            "Epoch 7/50\n",
            "367/367 [==============================] - 533s 1s/step - loss: 1.6142 - accuracy: 0.5631 - val_loss: 0.7139 - val_accuracy: 0.5006\n",
            "Epoch 8/50\n",
            "367/367 [==============================] - 533s 1s/step - loss: 1.5947 - accuracy: 0.5623 - val_loss: 0.7059 - val_accuracy: 0.5012\n",
            "Epoch 9/50\n",
            "367/367 [==============================] - 533s 1s/step - loss: 1.4643 - accuracy: 0.5744 - val_loss: 0.7014 - val_accuracy: 0.5053\n",
            "Epoch 10/50\n",
            "367/367 [==============================] - 530s 1s/step - loss: 1.3445 - accuracy: 0.5767 - val_loss: 0.6968 - val_accuracy: 0.5107\n",
            "Epoch 11/50\n",
            "367/367 [==============================] - 533s 1s/step - loss: 1.2259 - accuracy: 0.5890 - val_loss: 0.6909 - val_accuracy: 0.5214\n",
            "Epoch 12/50\n",
            "367/367 [==============================] - 532s 1s/step - loss: 1.1469 - accuracy: 0.5982 - val_loss: 0.6849 - val_accuracy: 0.5353\n",
            "Epoch 13/50\n",
            "367/367 [==============================] - 531s 1s/step - loss: 0.9862 - accuracy: 0.6147 - val_loss: 0.6732 - val_accuracy: 0.5684\n",
            "Epoch 14/50\n",
            "367/367 [==============================] - 530s 1s/step - loss: 0.8995 - accuracy: 0.6251 - val_loss: 0.6576 - val_accuracy: 0.5942\n",
            "Epoch 15/50\n",
            "367/367 [==============================] - 530s 1s/step - loss: 0.7603 - accuracy: 0.6376 - val_loss: 0.6052 - val_accuracy: 0.6957\n",
            "Epoch 16/50\n",
            "367/367 [==============================] - 532s 1s/step - loss: 0.6891 - accuracy: 0.6511 - val_loss: 0.5920 - val_accuracy: 0.7673\n",
            "Epoch 17/50\n",
            "367/367 [==============================] - 534s 1s/step - loss: 0.6652 - accuracy: 0.6679 - val_loss: 0.6232 - val_accuracy: 0.8338\n",
            "Epoch 18/50\n",
            "367/367 [==============================] - 532s 1s/step - loss: 0.6590 - accuracy: 0.6777 - val_loss: 0.5687 - val_accuracy: 0.7907\n",
            "Epoch 19/50\n",
            "367/367 [==============================] - 531s 1s/step - loss: 0.6390 - accuracy: 0.6846 - val_loss: 0.5603 - val_accuracy: 0.8381\n",
            "Epoch 20/50\n",
            "367/367 [==============================] - 532s 1s/step - loss: 0.6450 - accuracy: 0.6957 - val_loss: 0.5373 - val_accuracy: 0.8525\n",
            "Epoch 21/50\n",
            "367/367 [==============================] - 531s 1s/step - loss: 0.6610 - accuracy: 0.7043 - val_loss: 0.6124 - val_accuracy: 0.8654\n",
            "Epoch 22/50\n",
            "367/367 [==============================] - 531s 1s/step - loss: 0.6536 - accuracy: 0.6896 - val_loss: 0.6405 - val_accuracy: 0.8706\n",
            "Epoch 23/50\n",
            "367/367 [==============================] - 531s 1s/step - loss: 0.6635 - accuracy: 0.6995 - val_loss: 0.5858 - val_accuracy: 0.7954\n",
            "Epoch 24/50\n",
            "367/367 [==============================] - 530s 1s/step - loss: 0.6589 - accuracy: 0.6913 - val_loss: 0.5767 - val_accuracy: 0.7685\n",
            "Epoch 25/50\n",
            "101/367 [=======>......................] - ETA: 6:05 - loss: 0.6555 - accuracy: 0.6881"
          ]
        }
      ]
    },
    {
      "cell_type": "markdown",
      "source": [
        "Test Model"
      ],
      "metadata": {
        "id": "Kp6OQumq-tth"
      }
    },
    {
      "cell_type": "code",
      "source": [
        "img_path = '/content/male-female-face-dataset/Validation/female/112968.jpg.jpg'"
      ],
      "metadata": {
        "id": "sTVnCrkZF-A0"
      },
      "execution_count": null,
      "outputs": []
    },
    {
      "cell_type": "code",
      "source": [
        "\n",
        "import matplotlib.pyplot as plt\n",
        "\n",
        "img = load_img(img_path, target_size=(size,size,3))\n",
        "plt.imshow(img)"
      ],
      "metadata": {
        "colab": {
          "base_uri": "https://localhost:8080/",
          "height": 287
        },
        "id": "PcmQoSnBnv2E",
        "outputId": "8a068b23-cfb6-4f82-b560-fe000d954cd8"
      },
      "execution_count": null,
      "outputs": [
        {
          "output_type": "execute_result",
          "data": {
            "text/plain": [
              "<matplotlib.image.AxesImage at 0x7f7bf21c3450>"
            ]
          },
          "metadata": {},
          "execution_count": 77
        },
        {
          "output_type": "display_data",
          "data": {
            "text/plain": [
              "<Figure size 432x288 with 1 Axes>"
            ],
            "image/png": "[encoded data removed]"
          },
          "metadata": {
            "needs_background": "light"
          }
        }
      ]
    },
    {
      "cell_type": "markdown",
      "source": [
        "### covert img to numerical data"
      ],
      "metadata": {
        "id": "TTt52eF1Aq9V"
      }
    },
    {
      "cell_type": "code",
      "source": [
        "img = img_to_array(img)\n",
        "img = img/255.0\n",
        "img = img.reshape(1,size,size,3) #array of 1 img only"
      ],
      "metadata": {
        "id": "7g-3_cCC_qmj"
      },
      "execution_count": null,
      "outputs": []
    },
    {
      "cell_type": "code",
      "source": [
        "img.shape"
      ],
      "metadata": {
        "colab": {
          "base_uri": "https://localhost:8080/"
        },
        "id": "oJiIN7iIAqHS",
        "outputId": "1be90f7b-b911-4e2d-cc65-45fece9ab0e0"
      },
      "execution_count": null,
      "outputs": [
        {
          "output_type": "execute_result",
          "data": {
            "text/plain": [
              "(1, 224, 224, 3)"
            ]
          },
          "metadata": {},
          "execution_count": 79
        }
      ]
    },
    {
      "cell_type": "code",
      "source": [
        "model.predict(img)"
      ],
      "metadata": {
        "colab": {
          "base_uri": "https://localhost:8080/"
        },
        "id": "SMfaZNf_Aufn",
        "outputId": "d1d8225b-943d-47ce-f20e-19011086e766"
      },
      "execution_count": null,
      "outputs": [
        {
          "output_type": "execute_result",
          "data": {
            "text/plain": [
              "array([[0.48584944]], dtype=float32)"
            ]
          },
          "metadata": {},
          "execution_count": 80
        }
      ]
    },
    {
      "cell_type": "code",
      "source": [
        "def get_class(data):\n",
        "  \n",
        "  probability = model.predict(img)\n",
        "  pred = np.argmax(probability, axis=1)\n",
        "\n",
        "  if pred[0] == 0:\n",
        "      return 'female', probability[0][0]\n",
        "  else:\n",
        "      return 'male' ,probability[0][0]\n",
        "    "
      ],
      "metadata": {
        "id": "DGWxUMzSAw7i"
      },
      "execution_count": null,
      "outputs": []
    },
    {
      "cell_type": "code",
      "source": [
        "get_class(img)"
      ],
      "metadata": {
        "colab": {
          "base_uri": "https://localhost:8080/"
        },
        "id": "RSA4ek77BD-_",
        "outputId": "94e9242d-ba36-4ad9-da84-1b5eb40a93d3"
      },
      "execution_count": null,
      "outputs": [
        {
          "output_type": "execute_result",
          "data": {
            "text/plain": [
              "('female', 0.48584944)"
            ]
          },
          "metadata": {},
          "execution_count": 89
        }
      ]
    },
    {
      "cell_type": "code",
      "source": [
        "img2 = '/content/male-female-face-dataset/Validation/female/113102.jpg.jpg'\n",
        "get_class(img2)"
      ],
      "metadata": {
        "colab": {
          "base_uri": "https://localhost:8080/"
        },
        "id": "_49vnh80BFhG",
        "outputId": "9412b45d-33b3-40f5-c053-fffc74d6ecc9"
      },
      "execution_count": null,
      "outputs": [
        {
          "output_type": "execute_result",
          "data": {
            "text/plain": [
              "('female', 0.48584944)"
            ]
          },
          "metadata": {},
          "execution_count": 90
        }
      ]
    },
    {
      "cell_type": "code",
      "source": [
        "img3 = '/img1.jpg'\n",
        "get_class(img3_male)"
      ],
      "metadata": {
        "colab": {
          "base_uri": "https://localhost:8080/"
        },
        "id": "F57QZ9-_BxB-",
        "outputId": "cabab50a-685d-44a3-a4b5-6e3478602b5e"
      },
      "execution_count": null,
      "outputs": [
        {
          "output_type": "execute_result",
          "data": {
            "text/plain": [
              "('female', 0.48584944)"
            ]
          },
          "metadata": {},
          "execution_count": 92
        }
      ]
    },
    {
      "cell_type": "markdown",
      "source": [
        "using webcam"
      ],
      "metadata": {
        "id": "mbZ1kZlxEpyi"
      }
    },
    {
      "cell_type": "code",
      "source": [
        "import imutils\n",
        "import numpy as np\n",
        "import cv2\n",
        "from google.colab.patches import cv2_imshow\n",
        "from IPython.display import display, Javascript\n",
        "from google.colab.output import eval_js\n",
        "from base64 import b64decode"
      ],
      "metadata": {
        "id": "cKVMx4tVB8oa"
      },
      "execution_count": null,
      "outputs": []
    },
    {
      "cell_type": "code",
      "source": [
        "def take_photo(filename='photo.jpg', quality=0.8):\n",
        "  js = Javascript('''\n",
        "    async function takePhoto(quality) {\n",
        "      const div = document.createElement('div');\n",
        "      const capture = document.createElement('button');\n",
        "      capture.textContent = 'Capture';\n",
        "      div.appendChild(capture);\n",
        "\n",
        "      const video = document.createElement('video');\n",
        "      video.style.display = 'block';\n",
        "      const stream = await navigator.mediaDevices.getUserMedia({video: true});\n",
        "\n",
        "      document.body.appendChild(div);\n",
        "      div.appendChild(video);\n",
        "      video.srcObject = stream;\n",
        "      await video.play();\n",
        "\n",
        "      // Resize the output to fit the video element.\n",
        "      google.colab.output.setIframeHeight(document.documentElement.scrollHeight, true);\n",
        "\n",
        "      // Wait for Capture to be clicked.\n",
        "      await new Promise((resolve) => capture.onclick = resolve);\n",
        "\n",
        "      const canvas = document.createElement('canvas');\n",
        "      canvas.width = video.videoWidth;\n",
        "      canvas.height = video.videoHeight;\n",
        "      canvas.getContext('2d').drawImage(video, 0, 0);\n",
        "      stream.getVideoTracks()[0].stop();\n",
        "      div.remove();\n",
        "      return canvas.toDataURL('image/jpeg', quality);\n",
        "    }\n",
        "    ''')\n",
        "  display(js)\n",
        "  data = eval_js('takePhoto({})'.format(quality))\n",
        "  binary = b64decode(data.split(',')[1])\n",
        "  with open(filename, 'wb') as f:\n",
        "    f.write(binary)\n",
        "  return filename"
      ],
      "metadata": {
        "id": "LQcn1-5PFnn-"
      },
      "execution_count": null,
      "outputs": []
    },
    {
      "cell_type": "code",
      "source": [
        "from IPython.display import Image\n",
        "try:\n",
        "  filename=take_photo()\n",
        "  print('Saved to {}'.format(filename))\n",
        "\n",
        "  display(Image(filename))\n",
        "except Exception as err:\n",
        "  print(str(err))"
      ],
      "metadata": {
        "colab": {
          "base_uri": "https://localhost:8080/",
          "height": 507
        },
        "id": "aSJVjf7PFrzJ",
        "outputId": "84bf3c5c-487d-42e8-b3d2-c6376d545ab0"
      },
      "execution_count": null,
      "outputs": [
        {
          "output_type": "display_data",
          "data": {
            "text/plain": [
              "<IPython.core.display.Javascript object>"
            ],
            "application/javascript": [
              "\n",
              "    async function takePhoto(quality) {\n",
              "      const div = document.createElement('div');\n",
              "      const capture = document.createElement('button');\n",
              "      capture.textContent = 'Capture';\n",
              "      div.appendChild(capture);\n",
              "\n",
              "      const video = document.createElement('video');\n",
              "      video.style.display = 'block';\n",
              "      const stream = await navigator.mediaDevices.getUserMedia({video: true});\n",
              "\n",
              "      document.body.appendChild(div);\n",
              "      div.appendChild(video);\n",
              "      video.srcObject = stream;\n",
              "      await video.play();\n",
              "\n",
              "      // Resize the output to fit the video element.\n",
              "      google.colab.output.setIframeHeight(document.documentElement.scrollHeight, true);\n",
              "\n",
              "      // Wait for Capture to be clicked.\n",
              "      await new Promise((resolve) => capture.onclick = resolve);\n",
              "\n",
              "      const canvas = document.createElement('canvas');\n",
              "      canvas.width = video.videoWidth;\n",
              "      canvas.height = video.videoHeight;\n",
              "      canvas.getContext('2d').drawImage(video, 0, 0);\n",
              "      stream.getVideoTracks()[0].stop();\n",
              "      div.remove();\n",
              "      return canvas.toDataURL('image/jpeg', quality);\n",
              "    }\n",
              "    "
            ]
          },
          "metadata": {}
        },
        {
          "output_type": "stream",
          "name": "stdout",
          "text": [
            "Saved to photo.jpg\n"
          ]
        },
        {
          "output_type": "display_data",
          "data": {
            "text/plain": [
              "<IPython.core.display.Image object>"
            ],
            "image/jpeg": "[encoded data removed]"
          },
          "metadata": {}
        }
      ]
    },
    {
      "cell_type": "code",
      "source": [
        "# img_pathh = '/content/photo.jpg'"
      ],
      "metadata": {
        "id": "oREpGuKjHAU5"
      },
      "execution_count": null,
      "outputs": []
    },
    {
      "cell_type": "code",
      "source": [
        "def get_prediction(img_pathh):\n",
        "  img = load_img(img_pathh,target_size=(224,224,3))\n",
        "  plt.imshow(img)\n",
        "  img = img_to_array(img)\n",
        "  img = img/255.0\n",
        "  img = img.reshape(1,224,224,3)\n",
        "  pred,probability = get_class(img)\n",
        "  return pred,probability"
      ],
      "metadata": {
        "id": "NYW4Fp2xGUSi"
      },
      "execution_count": null,
      "outputs": []
    },
    {
      "cell_type": "code",
      "source": [
        "get_prediction('/content/photo.jpg')"
      ],
      "metadata": {
        "colab": {
          "base_uri": "https://localhost:8080/",
          "height": 287
        },
        "id": "qWe3Q04kGn6y",
        "outputId": "5d137c7d-49ae-4fa8-f9c0-b0b096a09eac"
      },
      "execution_count": null,
      "outputs": [
        {
          "output_type": "execute_result",
          "data": {
            "text/plain": [
              "('female', 0.48584944)"
            ]
          },
          "metadata": {},
          "execution_count": 104
        },
        {
          "output_type": "display_data",
          "data": {
            "text/plain": [
              "<Figure size 432x288 with 1 Axes>"
            ],
            "image/png": "[encoded data removed]"
          },
          "metadata": {
            "needs_background": "light"
          }
        }
      ]
    },
    {
      "cell_type": "code",
      "source": [
        "get_prediction('/content/male.jpg')"
      ],
      "metadata": {
        "colab": {
          "base_uri": "https://localhost:8080/",
          "height": 287
        },
        "id": "XMIsjbrZHkfe",
        "outputId": "50acfbd2-a4ed-4f49-f3d1-61dc138ea72c"
      },
      "execution_count": null,
      "outputs": [
        {
          "output_type": "execute_result",
          "data": {
            "text/plain": [
              "('female', 0.48584944)"
            ]
          },
          "metadata": {},
          "execution_count": 105
        },
        {
          "output_type": "display_data",
          "data": {
            "text/plain": [
              "<Figure size 432x288 with 1 Axes>"
            ],
            "image/png": "[encoded data removed]"
          },
          "metadata": {
            "needs_background": "light"
          }
        }
      ]
    },
    {
      "cell_type": "code",
      "source": [],
      "metadata": {
        "id": "N-aEGV8GH4kG"
      },
      "execution_count": null,
      "outputs": []
    }
  ]
}